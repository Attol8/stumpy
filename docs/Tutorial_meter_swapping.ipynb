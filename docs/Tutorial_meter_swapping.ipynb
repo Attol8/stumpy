{
 "cells": [
  {
   "cell_type": "markdown",
   "metadata": {
    "colab_type": "text",
    "id": "44XcS8RpA4JG"
   },
   "source": [
    "# Meter Swapping Detection\n",
    "\n",
    "Electricity theft is a huge problem for the Energy industry and a well-known and documented technique to steal energy is meter-swapping. Imagine two electricity consumers $A$ and $B$. Consumer $A$ is energy-efficient and do not consume a lot of electric energy, while household $B$ is a heavy consumer of electricity: he could be playing videogames too much, run the dishwasher 6 times a days or keep air conditioning on all the time. Now suppose that $B$ is a criminal mastermind and decides to switch his/her meter with that of $A$, this way he/she will effectively pay for $A$ small consumption, while $A$ will start receiving astronomical utility bills. \n",
    "\n",
    "A new paper by Zhu, Y. et al. (2020) [1] suggests that the Matrix Profile can be used to easily detect meter-swapping. In this tutorial we are going to use a dataset household electrical power demand collected from\n",
    "twenty houses in the UK, which you can download from [here](https://pureportal.strath.ac.uk/en/datasets/refit-electrical-load-measurements-cleaned) [2]. The dataset records electricity consumption every 6-8 seconds between 2013 and 2015."
   ]
  },
  {
   "cell_type": "markdown",
   "metadata": {
    "colab_type": "text",
    "id": "CMl0PsZyEvnx"
   },
   "source": [
    "## Load Libraries"
   ]
  },
  {
   "cell_type": "code",
   "execution_count": 21,
   "metadata": {
    "colab": {},
    "colab_type": "code",
    "executionInfo": {
     "elapsed": 2663,
     "status": "ok",
     "timestamp": 1599827034478,
     "user": {
      "displayName": "Jacopo Attolini",
      "photoUrl": "",
      "userId": "16577620843026715212"
     },
     "user_tz": -120
    },
    "id": "AroWGOriuLY9"
   },
   "outputs": [],
   "source": [
    "%matplotlib inline\n",
    "\n",
    "import stumpy\n",
    "import pandas as pd\n",
    "import numpy as np\n",
    "from zipfile import ZipFile\n",
    "from io import BytesIO\n",
    "import os\n",
    "import requests\n",
    "from tqdm import tqdm\n",
    "import matplotlib.pyplot as plt\n",
    "import datetime\n",
    "\n",
    "np.random.seed(1337)  # Random seed for reproducibility"
   ]
  },
  {
   "cell_type": "code",
   "execution_count": 22,
   "metadata": {
    "colab": {},
    "colab_type": "code",
    "executionInfo": {
     "elapsed": 2666,
     "status": "ok",
     "timestamp": 1599827034486,
     "user": {
      "displayName": "Jacopo Attolini",
      "photoUrl": "",
      "userId": "16577620843026715212"
     },
     "user_tz": -120
    },
    "id": "VXS-bKYCuQxO"
   },
   "outputs": [],
   "source": [
    "# useful plot function automatically resize and create the plots\n",
    "def change_plot_size(width, height, plt):\n",
    "    fig_size = plt.rcParams[\"figure.figsize\"]\n",
    "    fig_size[0] = width\n",
    "    fig_size[1] = height\n",
    "    plt.rcParams[\"figure.figsize\"] = fig_size\n",
    "\n",
    "\n",
    "change_plot_size(20, 6, plt)"
   ]
  },
  {
   "cell_type": "markdown",
   "metadata": {
    "colab_type": "text",
    "id": "DbvD23vkEz9I"
   },
   "source": [
    "## Load and clean data"
   ]
  },
  {
   "cell_type": "markdown",
   "metadata": {
    "colab_type": "text",
    "id": "Qv8wwbZfFelY"
   },
   "source": [
    "For each house, the dataset measures aggregate electricity consumption and single appliances' consumption. Because in our case we won't need to look at appliances, we will only load the `Aggregate` column. Also, loading data of all the 20 houses recorded in the study would be too heavy in terms of computations and it is not necessary to reproduce  the experiment of Zhu, Y. et al. (2020) [1]. Thus, we will only load data for House 1, 2, 3, 4 and 11."
   ]
  },
  {
   "cell_type": "code",
   "execution_count": 23,
   "metadata": {
    "colab": {},
    "colab_type": "code",
    "executionInfo": {
     "elapsed": 23568,
     "status": "ok",
     "timestamp": 1599827055394,
     "user": {
      "displayName": "Jacopo Attolini",
      "photoUrl": "",
      "userId": "16577620843026715212"
     },
     "user_tz": -120
    },
    "id": "08E36NwfuTM6"
   },
   "outputs": [],
   "source": [
    "# load data from Drive\n",
    "path = os.path.join(\"/content/drive/My Drive/\", \"consumption\")\n",
    "filenames = [f\"CLEAN_House{i}.csv\" for i in [1, 2, 3, 4, 11]]\n",
    "\n",
    "# load data into DataFrames and put them into a dictionary\n",
    "consumptions = {}\n",
    "for house in filenames:\n",
    "    consumptions[house] = pd.read_csv(os.path.join(path, house), usecols=[0, 2])"
   ]
  },
  {
   "cell_type": "code",
   "execution_count": 24,
   "metadata": {
    "colab": {
     "base_uri": "https://localhost:8080/",
     "height": 34
    },
    "colab_type": "code",
    "executionInfo": {
     "elapsed": 23561,
     "status": "ok",
     "timestamp": 1599827055395,
     "user": {
      "displayName": "Jacopo Attolini",
      "photoUrl": "",
      "userId": "16577620843026715212"
     },
     "user_tz": -120
    },
    "id": "U5Nhodi5u7uh",
    "outputId": "e4c872f7-56ed-44ba-9c0e-bf722b540832"
   },
   "outputs": [
    {
     "data": {
      "text/plain": [
       "['House1', 'House2', 'House3', 'House4', 'House11']"
      ]
     },
     "execution_count": 24,
     "metadata": {
      "tags": []
     },
     "output_type": "execute_result"
    }
   ],
   "source": [
    "# rename dictionary keys for easy access\n",
    "for key in list(consumptions.keys()):\n",
    "    consumptions[key[6:-4]] = consumptions.pop(key)\n",
    "list(consumptions.keys())"
   ]
  },
  {
   "cell_type": "code",
   "execution_count": 25,
   "metadata": {
    "colab": {
     "base_uri": "https://localhost:8080/",
     "height": 34
    },
    "colab_type": "code",
    "executionInfo": {
     "elapsed": 31416,
     "status": "ok",
     "timestamp": 1599827063260,
     "user": {
      "displayName": "Jacopo Attolini",
      "photoUrl": "",
      "userId": "16577620843026715212"
     },
     "user_tz": -120
    },
    "id": "s6SbEwrfi6RZ",
    "outputId": "6adc0e75-32c6-4525-9603-526a0c802d52"
   },
   "outputs": [
    {
     "name": "stderr",
     "output_type": "stream",
     "text": [
      "100%|██████████| 5/5 [00:07<00:00,  1.54s/it]\n"
     ]
    }
   ],
   "source": [
    "# convert column 'Time' to datetime format and sort dfs by date\n",
    "for i in tqdm([1, 2, 3, 4, 11]):\n",
    "    consumptions[f\"House{i}\"][\"Time\"] = pd.to_datetime(\n",
    "        consumptions[f\"House{i}\"][\"Time\"], infer_datetime_format=True\n",
    "    )\n",
    "    consumptions[f\"House{i}\"] = consumptions[f\"House{i}\"].sort_values(by=[\"Time\"])"
   ]
  },
  {
   "cell_type": "markdown",
   "metadata": {
    "colab_type": "text",
    "id": "qPZcU2o0Fbo-"
   },
   "source": [
    "Now we can look at our dataframe. As we can see, we only have two columns: `Time` and `Aggregate`"
   ]
  },
  {
   "cell_type": "code",
   "execution_count": 26,
   "metadata": {
    "colab": {
     "base_uri": "https://localhost:8080/",
     "height": 204
    },
    "colab_type": "code",
    "executionInfo": {
     "elapsed": 31406,
     "status": "ok",
     "timestamp": 1599827063261,
     "user": {
      "displayName": "Jacopo Attolini",
      "photoUrl": "",
      "userId": "16577620843026715212"
     },
     "user_tz": -120
    },
    "id": "sktEUbXRjDUW",
    "outputId": "1994c715-3ddd-4ba2-dfee-b31c3744c3b8"
   },
   "outputs": [
    {
     "data": {
      "text/html": [
       "<div>\n",
       "<style scoped>\n",
       "    .dataframe tbody tr th:only-of-type {\n",
       "        vertical-align: middle;\n",
       "    }\n",
       "\n",
       "    .dataframe tbody tr th {\n",
       "        vertical-align: top;\n",
       "    }\n",
       "\n",
       "    .dataframe thead th {\n",
       "        text-align: right;\n",
       "    }\n",
       "</style>\n",
       "<table border=\"1\" class=\"dataframe\">\n",
       "  <thead>\n",
       "    <tr style=\"text-align: right;\">\n",
       "      <th></th>\n",
       "      <th>Time</th>\n",
       "      <th>Aggregate</th>\n",
       "    </tr>\n",
       "  </thead>\n",
       "  <tbody>\n",
       "    <tr>\n",
       "      <th>0</th>\n",
       "      <td>2013-10-09 13:06:17</td>\n",
       "      <td>523</td>\n",
       "    </tr>\n",
       "    <tr>\n",
       "      <th>1</th>\n",
       "      <td>2013-10-09 13:06:31</td>\n",
       "      <td>526</td>\n",
       "    </tr>\n",
       "    <tr>\n",
       "      <th>2</th>\n",
       "      <td>2013-10-09 13:06:46</td>\n",
       "      <td>540</td>\n",
       "    </tr>\n",
       "    <tr>\n",
       "      <th>3</th>\n",
       "      <td>2013-10-09 13:07:01</td>\n",
       "      <td>532</td>\n",
       "    </tr>\n",
       "    <tr>\n",
       "      <th>4</th>\n",
       "      <td>2013-10-09 13:07:15</td>\n",
       "      <td>540</td>\n",
       "    </tr>\n",
       "  </tbody>\n",
       "</table>\n",
       "</div>"
      ],
      "text/plain": [
       "                 Time  Aggregate\n",
       "0 2013-10-09 13:06:17        523\n",
       "1 2013-10-09 13:06:31        526\n",
       "2 2013-10-09 13:06:46        540\n",
       "3 2013-10-09 13:07:01        532\n",
       "4 2013-10-09 13:07:15        540"
      ]
     },
     "execution_count": 26,
     "metadata": {
      "tags": []
     },
     "output_type": "execute_result"
    }
   ],
   "source": [
    "consumptions[\"House1\"].head()"
   ]
  },
  {
   "cell_type": "markdown",
   "metadata": {
    "colab_type": "text",
    "id": "Igiz0flRGaHj"
   },
   "source": [
    "FIrst of all, for our example we are going to take a subset of the data that goes from the 1st of May till the 23rd of December. We can easily filter all the 5 Houses DataFrames."
   ]
  },
  {
   "cell_type": "code",
   "execution_count": 27,
   "metadata": {
    "colab": {},
    "colab_type": "code",
    "executionInfo": {
     "elapsed": 31916,
     "status": "ok",
     "timestamp": 1599827063780,
     "user": {
      "displayName": "Jacopo Attolini",
      "photoUrl": "",
      "userId": "16577620843026715212"
     },
     "user_tz": -120
    },
    "id": "fc0rMHvRi67Q"
   },
   "outputs": [],
   "source": [
    "startdate = \"2014-01-01\"\n",
    "enddate = \"2014-12-23\"\n",
    "\n",
    "for i in [1, 2, 3, 4, 11]:\n",
    "    mask = (consumptions[f\"House{i}\"].Time >= startdate) & (\n",
    "        consumptions[f\"House{i}\"].Time <= enddate\n",
    "    )\n",
    "    consumptions[f\"House{i}\"] = consumptions[f\"House{i}\"][mask]"
   ]
  },
  {
   "cell_type": "markdown",
   "metadata": {
    "colab_type": "text",
    "id": "VNbl48ZbfD-r"
   },
   "source": [
    "Let's finally plot our consumption data"
   ]
  },
  {
   "cell_type": "code",
   "execution_count": 28,
   "metadata": {
    "colab": {
     "base_uri": "https://localhost:8080/",
     "height": 417
    },
    "colab_type": "code",
    "executionInfo": {
     "elapsed": 35969,
     "status": "ok",
     "timestamp": 1599827067841,
     "user": {
      "displayName": "Jacopo Attolini",
      "photoUrl": "",
      "userId": "16577620843026715212"
     },
     "user_tz": -120
    },
    "id": "RKQeEo2Ddrno",
    "outputId": "e1be850b-9322-40df-d180-8fa603ae433b"
   },
   "outputs": [
    {
     "data": {
      "image/png": "[encoded data removed]",
      "text/plain": [
       "<Figure size 1440x432 with 5 Axes>"
      ]
     },
     "metadata": {
      "needs_background": "light",
      "tags": []
     },
     "output_type": "display_data"
    }
   ],
   "source": [
    "fig, axs = plt.subplots(5, sharex=True, gridspec_kw={\"hspace\": 0})\n",
    "plt.suptitle(\"Houses Consumptions (1, 2, 3, 4 and 11)\", fontsize=\"30\")\n",
    "\n",
    "ax = 0\n",
    "colors = [\"green\", \"red\", \"blue\", \"black\", \"purple\"]\n",
    "\n",
    "for i, c in zip([1, 2, 3, 4, 11], colors):\n",
    "    axs[ax].plot(\n",
    "        consumptions[f\"House{i}\"][\"Time\"],\n",
    "        consumptions[f\"House{i}\"][\"Aggregate\"],\n",
    "        color=c,\n",
    "    )\n",
    "    ax += 1"
   ]
  },
  {
   "cell_type": "code",
   "execution_count": 29,
   "metadata": {
    "colab": {
     "base_uri": "https://localhost:8080/",
     "height": 102
    },
    "colab_type": "code",
    "executionInfo": {
     "elapsed": 35964,
     "status": "ok",
     "timestamp": 1599827067845,
     "user": {
      "displayName": "Jacopo Attolini",
      "photoUrl": "",
      "userId": "16577620843026715212"
     },
     "user_tz": -120
    },
    "id": "c28RtkUnnk4n",
    "outputId": "50c94279-5d83-460a-9b00-330835c1dbb1"
   },
   "outputs": [
    {
     "name": "stdout",
     "output_type": "stream",
     "text": [
      "3733619\n",
      "3474670\n",
      "3932378\n",
      "3742323\n",
      "2390128\n"
     ]
    }
   ],
   "source": [
    "# length of our dataframes\n",
    "for i in [1, 2, 3, 4, 11]:\n",
    "    print(len(consumptions[f\"House{i}\"]))"
   ]
  },
  {
   "cell_type": "markdown",
   "metadata": {
    "colab_type": "text",
    "id": "57Y_ruqNcIbK"
   },
   "source": [
    "The electricity consumption data in our dataset is recorded every 6 to 8 seconds. Thus, each time series contains around 2.5 million data points. Although this provides high accuracy, it would take too much time to compute the matrix profiles of these time series. A simple solution is to use pandas `resample()`, a Convenience method for frequency conversion and resampling of time series. Thanks to this function we can resample our data to 5 minutes periods, dramatically reducing the size of our dataframes."
   ]
  },
  {
   "cell_type": "code",
   "execution_count": 30,
   "metadata": {
    "colab": {
     "base_uri": "https://localhost:8080/",
     "height": 102
    },
    "colab_type": "code",
    "executionInfo": {
     "elapsed": 36195,
     "status": "ok",
     "timestamp": 1599827068087,
     "user": {
      "displayName": "Jacopo Attolini",
      "photoUrl": "",
      "userId": "16577620843026715212"
     },
     "user_tz": -120
    },
    "id": "-LDPvf1mtwHG",
    "outputId": "83d24ee7-2347-4943-cfc9-61dfb76112ac"
   },
   "outputs": [
    {
     "name": "stdout",
     "output_type": "stream",
     "text": [
      "102528\n",
      "89951\n",
      "102528\n",
      "102528\n",
      "58326\n"
     ]
    }
   ],
   "source": [
    "# resample data by grouping in 5 minute periods and atake the mean.\n",
    "for i in [1, 2, 3, 4, 11]:\n",
    "    consumptions[f\"House{i}\"].set_index(\"Time\", inplace=True)\n",
    "    consumptions[f\"House{i}\"] = consumptions[f\"House{i}\"].resample(\"5T\").mean()\n",
    "    consumptions[f\"House{i}\"].reset_index(level=0, inplace=True)\n",
    "\n",
    "for i in [1, 2, 3, 4, 11]:\n",
    "    print(len(consumptions[f\"House{i}\"]))"
   ]
  },
  {
   "cell_type": "markdown",
   "metadata": {
    "colab_type": "text",
    "id": "mMj5YM7pix2t"
   },
   "source": [
    "## Meter-swapping detection"
   ]
  },
  {
   "cell_type": "markdown",
   "metadata": {
    "colab_type": "text",
    "id": "NIGAHNu1jakV"
   },
   "source": [
    "In order to simulate a meter-swapping event, we can randomly select two time series and swap their traces starting at November 10th 2014. We are also going to compute Heads and Tails (consumption before and after November 10th) for all the other time series."
   ]
  },
  {
   "cell_type": "code",
   "execution_count": 31,
   "metadata": {
    "colab": {},
    "colab_type": "code",
    "executionInfo": {
     "elapsed": 41071,
     "status": "ok",
     "timestamp": 1599827072972,
     "user": {
      "displayName": "Jacopo Attolini",
      "photoUrl": "",
      "userId": "16577620843026715212"
     },
     "user_tz": -120
    },
    "id": "l_Ik8Qtki-4g"
   },
   "outputs": [],
   "source": [
    "# compute all heads and tails\n",
    "cutoff = \"2014-10-10\"\n",
    "\n",
    "heads, tails = {}, {}\n",
    "for i in [1, 2, 3, 4, 11]:\n",
    "    heads[f\"H_{i}\"] = consumptions[f\"House{i}\"][consumptions[f\"House{i}\"].Time < cutoff]\n",
    "    tails[f\"T_{i}\"] = consumptions[f\"House{i}\"][\n",
    "        consumptions[f\"House{i}\"].Time >= cutoff\n",
    "    ]\n",
    "\n",
    "# remove NaNs in tails\n",
    "for i in [1, 2, 3, 4, 11]:\n",
    "    tails[f\"T_{i}\"] = tails[f\"T_{i}\"].interpolate()"
   ]
  },
  {
   "cell_type": "code",
   "execution_count": 32,
   "metadata": {
    "colab": {},
    "colab_type": "code",
    "executionInfo": {
     "elapsed": 41067,
     "status": "ok",
     "timestamp": 1599827072974,
     "user": {
      "displayName": "Jacopo Attolini",
      "photoUrl": "",
      "userId": "16577620843026715212"
     },
     "user_tz": -120
    },
    "id": "eldsWs_6jBPY"
   },
   "outputs": [],
   "source": [
    "# select two random time series\n",
    "swap1, swap2 = 1, 11\n",
    "\n",
    "# swap Heads and Tails of 4 and 11\n",
    "consumptions[f\"House{swap1}\"] = heads[f\"H_{swap1}\"].append(tails[f\"T_{swap2}\"])\n",
    "consumptions[f\"House{swap2}\"] = heads[f\"H_{swap2}\"].append(tails[f\"T_{swap1}\"])\n",
    "\n",
    "# compute heads and tails again\n",
    "for i in [swap1, swap2]:\n",
    "    heads[f\"H_{i}\"] = consumptions[f\"House{i}\"][consumptions[f\"House{i}\"].Time < cutoff]\n",
    "    tails[f\"T_{i}\"] = consumptions[f\"House{i}\"][\n",
    "        consumptions[f\"House{i}\"].Time >= cutoff\n",
    "    ]"
   ]
  },
  {
   "cell_type": "code",
   "execution_count": 33,
   "metadata": {
    "colab": {
     "base_uri": "https://localhost:8080/",
     "height": 34
    },
    "colab_type": "code",
    "executionInfo": {
     "elapsed": 41062,
     "status": "ok",
     "timestamp": 1599827072976,
     "user": {
      "displayName": "Jacopo Attolini",
      "photoUrl": "",
      "userId": "16577620843026715212"
     },
     "user_tz": -120
    },
    "id": "EQhAf9bsqawz",
    "outputId": "563ff872-349e-4cbb-9d3a-7ed29d89626b"
   },
   "outputs": [
    {
     "name": "stdout",
     "output_type": "stream",
     "text": [
      "The swapped time series are: 1 and 11\n"
     ]
    }
   ],
   "source": [
    "print(f\"The swapped time series are: {swap1} and {swap2}\")"
   ]
  },
  {
   "cell_type": "code",
   "execution_count": 34,
   "metadata": {
    "colab": {
     "base_uri": "https://localhost:8080/",
     "height": 417
    },
    "colab_type": "code",
    "executionInfo": {
     "elapsed": 42879,
     "status": "ok",
     "timestamp": 1599827074801,
     "user": {
      "displayName": "Jacopo Attolini",
      "photoUrl": "",
      "userId": "16577620843026715212"
     },
     "user_tz": -120
    },
    "id": "HAPrHLu-jHIA",
    "outputId": "ba70fb19-ba6e-46d6-8386-aa4d7db25251"
   },
   "outputs": [
    {
     "data": {
      "image/png": "[encoded data removed]",
      "text/plain": [
       "<Figure size 1440x432 with 5 Axes>"
      ]
     },
     "metadata": {
      "needs_background": "light",
      "tags": []
     },
     "output_type": "display_data"
    }
   ],
   "source": [
    "# plot after swap\n",
    "fig, axs = plt.subplots(5, sharex=True, gridspec_kw={\"hspace\": 0})\n",
    "plt.suptitle(\"Houses Consumptions\", fontsize=\"30\")\n",
    "\n",
    "ax = 0\n",
    "colors = [\"green\", \"red\", \"blue\", \"black\", \"purple\"]\n",
    "for i, c in zip([1, 2, 3, 4, 11], colors):\n",
    "    axs[ax].plot(\n",
    "        consumptions[f\"House{i}\"][\"Time\"],\n",
    "        consumptions[f\"House{i}\"][\"Aggregate\"],\n",
    "        color=c,\n",
    "    )\n",
    "    axs[ax].axvline(x=datetime.date(2014, 10, 10), linestyle=\"dashed\", color=\"black\")\n",
    "    ax += 1"
   ]
  },
  {
   "cell_type": "markdown",
   "metadata": {
    "colab_type": "text",
    "id": "pG1ExnCsuY1K"
   },
   "source": [
    "It is pretty clear from the above plot that it is pretty difficult to detect meter-swapping thefts by naked eye. In order to detect the swapped Heads and Tails we can implement a simple algorithm that leverages the power of the Matrix Profile. \n",
    "\n",
    "We join all possible combinations of Heads and Tails, and record the pair $H_{i}$, $H_{j}$ that minimizes the following score:\n",
    "\n",
    "$\\text { Swap-Score }(i, j)=\\min \\left(\\operatorname{Head}_{\\mathrm{H} i} \\bowtie_\\theta 1 \\text { nn Tail }_{H j}\\right) /\\left(\\min \\left(\\operatorname{Head}_{\\mathrm{H} i} \\bowtie \\theta 1 \\text { nn Tail }_{H i}\\right)+\\text { epsilon }\\right)$\n",
    "\n",
    "\n",
    " $\\left(\\operatorname{Head}_{\\mathrm{H} i} \\bowtie \\theta 1 \\text { nn Tail }_{H j}\\right)$ is a vector of Euclidean distances between subsequences of $\\operatorname{Head}_{\\mathrm{H} i}$ and its nearest neighbor in $\\operatorname{Tail}_{\\mathrm{H} j}$. \n",
    "\n",
    "$\\left(\\operatorname{Head}_{\\mathrm{H} i} \\bowtie \\theta 1 \\text { nn Tail }_{H i}\\right)$ is a vector of Euclidean distances between subsequences of $\\operatorname{Head}_{\\mathrm{H} i}$ and its nearest neighbor in $\\operatorname{Tail}_{\\mathrm{H} i}$\n",
    "\n",
    "The equation looks a bit scary but the implementation in code will make things clearer.\n",
    "\n"
   ]
  },
  {
   "cell_type": "code",
   "execution_count": 35,
   "metadata": {
    "colab": {
     "base_uri": "https://localhost:8080/",
     "height": 102
    },
    "colab_type": "code",
    "executionInfo": {
     "elapsed": 175906,
     "status": "ok",
     "timestamp": 1599827207834,
     "user": {
      "displayName": "Jacopo Attolini",
      "photoUrl": "",
      "userId": "16577620843026715212"
     },
     "user_tz": -120
    },
    "id": "JG0JclTSjNdT",
    "outputId": "50fd1576-477c-4b54-a52a-df12cda1057a"
   },
   "outputs": [
    {
     "name": "stderr",
     "output_type": "stream",
     "text": [
      "\r",
      "  0%|          | 0/5 [00:00<?, ?it/s]/usr/local/lib/python3.6/dist-packages/numpy/lib/nanfunctions.py:1667: RuntimeWarning: Degrees of freedom <= 0 for slice.\n",
      "  keepdims=keepdims)\n",
      "/usr/local/lib/python3.6/dist-packages/numpy/core/_methods.py:34: RuntimeWarning: invalid value encountered in reduce\n",
      "  return umr_minimum(a, axis, None, out, keepdims, initial, where)\n",
      "100%|██████████| 5/5 [02:13<00:00, 26.69s/it]\n"
     ]
    }
   ],
   "source": [
    "from numba import cuda\n",
    "\n",
    "m = 144  # minutes in 6 hours, so we get 6 hours patterns\n",
    "all_gpu_devices = [\n",
    "    device.id for device in cuda.list_devices()\n",
    "]  # Get a list of all available GPU devices\n",
    "\n",
    "min_score = {}\n",
    "for i in tqdm([1, 2, 3, 4, 11]):\n",
    "    H_i = heads[f\"H_{i}\"].iloc[:, 1]\n",
    "    T_i = tails[f\"T_{i}\"].iloc[:, 1]\n",
    "    mp = stumpy.gpu_stump(T_i, m, H_i, device_id=all_gpu_devices, ignore_trivial=False)\n",
    "    mp[mp == np.inf] = np.nan\n",
    "    mp_min = mp[:, 0].min() + 0.001\n",
    "\n",
    "    for j in [1, 2, 3, 4, 11]:\n",
    "        T_j = tails[f\"T_{j}\"].iloc[:, 1]\n",
    "        mp_j = stumpy.gpu_stump(\n",
    "            T_j, m, H_i, device_id=all_gpu_devices, ignore_trivial=False\n",
    "        )\n",
    "        mp_j[mp_j == np.inf] = np.nan\n",
    "        mp_j_min = mp_j[:, 0].min()\n",
    "        score = mp_j_min / mp_min\n",
    "\n",
    "        if not min_score:  # check if dict is empty\n",
    "            min_score[\"i\"] = i\n",
    "            min_score[\"j\"] = j\n",
    "            min_score[\"score\"] = score\n",
    "            min_score[\"mp_min\"] = mp_min\n",
    "            min_score[\"mp_j_min\"] = mp_j_min\n",
    "            min_score[\"mp_j\"] = mp_j\n",
    "\n",
    "        elif score < min_score[\"score\"]:\n",
    "            min_score[\"i\"] = i\n",
    "            min_score[\"j\"] = j\n",
    "            min_score[\"score\"] = score\n",
    "            min_score[\"mp_min\"] = mp_min\n",
    "            min_score[\"mp_j_min\"] = mp_j_min\n",
    "            min_score[\"mp_j\"] = mp_j"
   ]
  },
  {
   "cell_type": "code",
   "execution_count": 36,
   "metadata": {
    "colab": {
     "base_uri": "https://localhost:8080/",
     "height": 68
    },
    "colab_type": "code",
    "executionInfo": {
     "elapsed": 175899,
     "status": "ok",
     "timestamp": 1599827207835,
     "user": {
      "displayName": "Jacopo Attolini",
      "photoUrl": "",
      "userId": "16577620843026715212"
     },
     "user_tz": -120
    },
    "id": "aB2ceIHMl9oD",
    "outputId": "ededcb04-72a5-47e8-9da5-80eeabe5e1d5"
   },
   "outputs": [
    {
     "name": "stdout",
     "output_type": "stream",
     "text": [
      "the sequences that minimize the score are:\n",
      "Head: H_1\n",
      "Tail: T_11\n"
     ]
    }
   ],
   "source": [
    "print(\"the sequences that minimize the score are:\")\n",
    "min_i, min_j = min_score[\"i\"], min_score[\"j\"]\n",
    "print(f\"Head: H_{min_i}\")\n",
    "print(f\"Tail: T_{min_j}\")"
   ]
  },
  {
   "cell_type": "markdown",
   "metadata": {
    "colab_type": "text",
    "id": "VWeiuRmlGpMt"
   },
   "source": [
    "Our algorithm quickly discovered irregularities in the time series, thus we can quickly identify energy theft! Note that we have fixed cutoff time here, but if we want to, meter-swaps at other dates can be discovered by just increasing the search space."
   ]
  },
  {
   "cell_type": "markdown",
   "metadata": {
    "colab_type": "text",
    "id": "i67nvdGhGe2B"
   },
   "source": [
    "## Plot the discovered motifs"
   ]
  },
  {
   "cell_type": "markdown",
   "metadata": {
    "colab_type": "text",
    "id": "iPfPmOVLOn1U"
   },
   "source": [
    "The first column consists of the matrix profile, the second column consists of the matrix profile indices, the third column consists of the left matrix profile indices, and the fourth column consists of the right matrix profile indices."
   ]
  },
  {
   "cell_type": "code",
   "execution_count": 37,
   "metadata": {
    "colab": {
     "base_uri": "https://localhost:8080/",
     "height": 68
    },
    "colab_type": "code",
    "executionInfo": {
     "elapsed": 175890,
     "status": "ok",
     "timestamp": 1599827207835,
     "user": {
      "displayName": "Jacopo Attolini",
      "photoUrl": "",
      "userId": "16577620843026715212"
     },
     "user_tz": -120
    },
    "id": "aj2JsFMN3Tex",
    "outputId": "ed9f4842-690f-441f-d237-674304769a0f"
   },
   "outputs": [
    {
     "name": "stderr",
     "output_type": "stream",
     "text": [
      "/usr/local/lib/python3.6/dist-packages/numpy/core/_methods.py:34: RuntimeWarning: invalid value encountered in reduce\n",
      "  return umr_minimum(a, axis, None, out, keepdims, initial, where)\n"
     ]
    },
    {
     "data": {
      "text/plain": [
       "array([3.5796943121639555, 5210, -1, -1], dtype=object)"
      ]
     },
     "execution_count": 37,
     "metadata": {
      "tags": []
     },
     "output_type": "execute_result"
    }
   ],
   "source": [
    "mp = min_score[\"mp_j\"]\n",
    "mp[np.where(mp[:, 0] == mp[:, 0].min())].flatten()"
   ]
  },
  {
   "cell_type": "code",
   "execution_count": 38,
   "metadata": {
    "colab": {
     "base_uri": "https://localhost:8080/",
     "height": 136
    },
    "colab_type": "code",
    "executionInfo": {
     "elapsed": 175884,
     "status": "ok",
     "timestamp": 1599827207836,
     "user": {
      "displayName": "Jacopo Attolini",
      "photoUrl": "",
      "userId": "16577620843026715212"
     },
     "user_tz": -120
    },
    "id": "qChgkLfWSPHT",
    "outputId": "d80d1bb1-0fa6-4877-e8bd-7e416fa82b9e"
   },
   "outputs": [
    {
     "data": {
      "text/plain": [
       "array([[nan, -1, -1, -1],\n",
       "       [nan, -1, -1, -1],\n",
       "       [nan, -1, -1, -1],\n",
       "       ...,\n",
       "       [7.423899412866549, 17850, -1, -1],\n",
       "       [7.438546986304125, 17851, -1, -1],\n",
       "       [7.452389117157691, 17852, -1, -1]], dtype=object)"
      ]
     },
     "execution_count": 38,
     "metadata": {
      "tags": []
     },
     "output_type": "execute_result"
    }
   ],
   "source": [
    "mp"
   ]
  },
  {
   "cell_type": "markdown",
   "metadata": {
    "colab_type": "text",
    "id": "2amG6jCcD-Lq"
   },
   "source": [
    "## References\n",
    "\n",
    "[1] Zhu, Y. et al. (2020) “The Swiss army knife of time series data mining: ten useful things you can do with the matrix profile and ten lines of code,” Data Mining and Knowledge Discovery. Springer Science and Business Media LLC, 34(4), pp. 949–979. doi: 10.1007/s10618-019-00668-6.\n",
    "\n",
    "[2] Murray, D., Stankovic, L. and Stankovic, V., 2017. An electrical load measurements dataset of United Kingdom households from a two-year longitudinal study. Scientific data, 4(1), pp.1-12."
   ]
  }
 ],
 "metadata": {
  "accelerator": "GPU",
  "colab": {
   "authorship_tag": "ABX9TyNtv/qisLNB9YRFv6rYAmpW",
   "collapsed_sections": [],
   "mount_file_id": "1uJvR50Pv-6hs6bUQFyIgtE9GfMQmViW8",
   "name": "meter_swapping.ipynb",
   "provenance": [],
   "toc_visible": true
  },
  "kernelspec": {
   "display_name": "Python 3",
   "language": "python",
   "name": "python3"
  },
  "language_info": {
   "codemirror_mode": {
    "name": "ipython",
    "version": 3
   },
   "file_extension": ".py",
   "mimetype": "text/x-python",
   "name": "python",
   "nbconvert_exporter": "python",
   "pygments_lexer": "ipython3",
   "version": "3.7.6"
  }
 },
 "nbformat": 4,
 "nbformat_minor": 1
}
